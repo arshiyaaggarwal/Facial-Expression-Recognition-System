{
 "cells": [
  {
   "cell_type": "code",
   "execution_count": 38,
   "metadata": {
    "collapsed": true
   },
   "outputs": [],
   "source": [
    "import pandas as pd\n",
    "import numpy as np\n",
    "import matplotlib.pyplot as plt\n",
    "%matplotlib inline\n",
    "from keras.utils import np_utils\n",
    "from keras.layers import Dense, Activation, Convolution2D, MaxPooling2D, Dropout, Flatten\n",
    "from keras.models import Sequential"
   ]
  },
  {
   "cell_type": "code",
   "execution_count": 39,
   "metadata": {
    "collapsed": true
   },
   "outputs": [],
   "source": [
    "## path of the file\n",
    "ds= pd.read_csv('/Users/arshiyaaggarwal/Downloads/fer2013/fer2013.csv')\n",
    "data= ds.values"
   ]
  },
  {
   "cell_type": "code",
   "execution_count": null,
   "metadata": {
    "collapsed": true
   },
   "outputs": [],
   "source": [
    "## data cleaning and creation of the dataset for training"
   ]
  },
  {
   "cell_type": "code",
   "execution_count": 40,
   "metadata": {},
   "outputs": [
    {
     "name": "stdout",
     "output_type": "stream",
     "text": [
      "(35887, 3)\n",
      "(35887,)\n",
      "8287\n",
      " \n",
      "(35887,)\n",
      "7\n"
     ]
    }
   ],
   "source": [
    "print data.shape\n",
    "y= data[:,0]\n",
    "pixels = data[:,1]\n",
    "print pixels.shape\n",
    "print len(pixels[0])\n",
    "print pixels[10][5]\n",
    "print data[:,2].shape\n",
    "print len(np.unique(data[:,0]))"
   ]
  },
  {
   "cell_type": "code",
   "execution_count": 41,
   "metadata": {},
   "outputs": [
    {
     "name": "stdout",
     "output_type": "stream",
     "text": [
      "(35887, 2304)\n"
     ]
    }
   ],
   "source": [
    "X= np.zeros((pixels.shape[0], 48*48))\n",
    "for ix in range(X.shape[0]):\n",
    "    p= pixels[ix].split(' ')\n",
    "    for iy in range(X.shape[1]):\n",
    "        X[ix, iy]= p[iy]\n",
    "print X.shape"
   ]
  },
  {
   "cell_type": "code",
   "execution_count": 42,
   "metadata": {},
   "outputs": [
    {
     "name": "stdout",
     "output_type": "stream",
     "text": [
      "(35887, 2304)\n",
      "(35887,)\n"
     ]
    }
   ],
   "source": [
    "print X.shape\n",
    "print y.shape\n"
   ]
  },
  {
   "cell_type": "code",
   "execution_count": 43,
   "metadata": {},
   "outputs": [
    {
     "name": "stdout",
     "output_type": "stream",
     "text": [
      "(35887, 48, 48, 1)\n",
      "<type 'numpy.float64'>\n",
      "(35887, 7)\n",
      "0 --- [ 1.  0.  0.  0.  0.  0.  0.]\n",
      "0 --- [ 1.  0.  0.  0.  0.  0.  0.]\n",
      "2 --- [ 0.  0.  1.  0.  0.  0.  0.]\n",
      "4 --- [ 0.  0.  0.  0.  1.  0.  0.]\n",
      "6 --- [ 0.  0.  0.  0.  0.  0.  1.]\n"
     ]
    }
   ],
   "source": [
    "X_= np.zeros((X.shape[0],48,48,1))\n",
    "for ix in range(X.shape[0]):\n",
    "    X_[ix]= X[ix].reshape((48,48,1))\n",
    "print X_.shape\n",
    "X_-= np.mean(X_, axis= 0)\n",
    "X_ /= np.std(X_, axis=0)\n",
    "print type(X_[0,0,0,0])\n",
    "Y=np_utils.to_categorical(y)\n",
    "print Y.shape\n",
    "for ix in range(5):\n",
    "    print y[ix], \"---\", Y[ix,:]"
   ]
  },
  {
   "cell_type": "code",
   "execution_count": null,
   "metadata": {
    "collapsed": true
   },
   "outputs": [],
   "source": [
    "## split into train and test sets"
   ]
  },
  {
   "cell_type": "code",
   "execution_count": 48,
   "metadata": {},
   "outputs": [
    {
     "name": "stdout",
     "output_type": "stream",
     "text": [
      "(25120, 48, 48, 1) (10767, 48, 48, 1)\n",
      "(25120, 7) (10767, 7)\n"
     ]
    }
   ],
   "source": [
    "split= int(0.7 * X.shape[0])\n",
    "X_train= X_[:split, :,:,:]\n",
    "X_test= X_[split:, :,:,:]\n",
    "Y_train= Y[:split, :]\n",
    "Y_test= Y[split:, :]\n",
    "\n",
    "print X_train.shape, X_test.shape\n",
    "print Y_train.shape, Y_test.shape"
   ]
  },
  {
   "cell_type": "code",
   "execution_count": null,
   "metadata": {
    "collapsed": true
   },
   "outputs": [],
   "source": [
    "##creation of the model"
   ]
  },
  {
   "cell_type": "code",
   "execution_count": 49,
   "metadata": {},
   "outputs": [
    {
     "name": "stdout",
     "output_type": "stream",
     "text": [
      "____________________________________________________________________________________________________\n",
      "Layer (type)                     Output Shape          Param #     Connected to                     \n",
      "====================================================================================================\n",
      "convolution2d_19 (Convolution2D) (None, 46, 46, 32)    320         convolution2d_input_6[0][0]      \n",
      "____________________________________________________________________________________________________\n",
      "convolution2d_20 (Convolution2D) (None, 44, 44, 16)    4624        convolution2d_19[0][0]           \n",
      "____________________________________________________________________________________________________\n",
      "dropout_11 (Dropout)             (None, 44, 44, 16)    0           convolution2d_20[0][0]           \n",
      "____________________________________________________________________________________________________\n",
      "maxpooling2d_6 (MaxPooling2D)    (None, 22, 22, 16)    0           dropout_11[0][0]                 \n",
      "____________________________________________________________________________________________________\n",
      "convolution2d_21 (Convolution2D) (None, 20, 20, 16)    2320        maxpooling2d_6[0][0]             \n",
      "____________________________________________________________________________________________________\n",
      "flatten_6 (Flatten)              (None, 6400)          0           convolution2d_21[0][0]           \n",
      "____________________________________________________________________________________________________\n",
      "dense_11 (Dense)                 (None, 128)           819328      flatten_6[0][0]                  \n",
      "____________________________________________________________________________________________________\n",
      "dropout_12 (Dropout)             (None, 128)           0           dense_11[0][0]                   \n",
      "____________________________________________________________________________________________________\n",
      "dense_12 (Dense)                 (None, 7)             903         dropout_12[0][0]                 \n",
      "____________________________________________________________________________________________________\n",
      "activation_6 (Activation)        (None, 7)             0           dense_12[0][0]                   \n",
      "====================================================================================================\n",
      "Total params: 827,495\n",
      "Trainable params: 827,495\n",
      "Non-trainable params: 0\n",
      "____________________________________________________________________________________________________\n"
     ]
    }
   ],
   "source": [
    "model= Sequential()\n",
    "model.add(Convolution2D(32,3,3, input_shape= (48,48,1), activation='relu'))\n",
    "model.add(Convolution2D(16,3,3, activation='relu'))\n",
    "model.add(Dropout(0.5))\n",
    "\n",
    "model.add(MaxPooling2D(pool_size=(2,2)))\n",
    "\n",
    "model.add(Convolution2D(16,3,3, activation='relu'))\n",
    "model.add(Flatten())\n",
    "model.add(Dense(128, activation='relu'))\n",
    "model.add(Dropout(0.5))\n",
    "model.add(Dense(7))\n",
    "model.add(Activation('softmax'))\n",
    "\n",
    "model.summary()"
   ]
  },
  {
   "cell_type": "code",
   "execution_count": 50,
   "metadata": {
    "collapsed": true
   },
   "outputs": [],
   "source": [
    "model.compile(loss= 'categorical_crossentropy', optimizer='adam', metrics=['accuracy'])"
   ]
  },
  {
   "cell_type": "code",
   "execution_count": null,
   "metadata": {
    "collapsed": true
   },
   "outputs": [],
   "source": [
    "##training the model"
   ]
  },
  {
   "cell_type": "code",
   "execution_count": null,
   "metadata": {},
   "outputs": [
    {
     "name": "stdout",
     "output_type": "stream",
     "text": [
      "Train on 25120 samples, validate on 10767 samples\n",
      "Epoch 1/12\n",
      "147s - loss: 1.7575 - acc: 0.2891 - val_loss: 1.6691 - val_acc: 0.3879\n",
      "Epoch 2/12\n",
      "149s - loss: 1.6047 - acc: 0.3798 - val_loss: 1.5703 - val_acc: 0.4287\n",
      "Epoch 3/12\n",
      "147s - loss: 1.5076 - acc: 0.4239 - val_loss: 1.4761 - val_acc: 0.4557\n",
      "Epoch 4/12\n",
      "147s - loss: 1.4258 - acc: 0.4541 - val_loss: 1.4126 - val_acc: 0.4747\n",
      "Epoch 5/12\n",
      "148s - loss: 1.3708 - acc: 0.4771 - val_loss: 1.3872 - val_acc: 0.4907\n",
      "Epoch 6/12\n",
      "146s - loss: 1.3165 - acc: 0.4981 - val_loss: 1.3590 - val_acc: 0.4744\n",
      "Epoch 7/12\n",
      "142s - loss: 1.2800 - acc: 0.5146 - val_loss: 1.3382 - val_acc: 0.5065\n",
      "Epoch 8/12\n"
     ]
    }
   ],
   "source": [
    "model.fit(X_train, Y_train, nb_epoch= 12, batch_size=512, verbose=2, validation_data=(X_test, Y_test))"
   ]
  },
  {
   "cell_type": "code",
   "execution_count": null,
   "metadata": {
    "collapsed": true
   },
   "outputs": [],
   "source": []
  }
 ],
 "metadata": {
  "kernelspec": {
   "display_name": "Python 2",
   "language": "python",
   "name": "python2"
  },
  "language_info": {
   "codemirror_mode": {
    "name": "ipython",
    "version": 2
   },
   "file_extension": ".py",
   "mimetype": "text/x-python",
   "name": "python",
   "nbconvert_exporter": "python",
   "pygments_lexer": "ipython2",
   "version": "2.7.10"
  }
 },
 "nbformat": 4,
 "nbformat_minor": 2
}
